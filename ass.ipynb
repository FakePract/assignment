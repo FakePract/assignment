{
 "cells": [
  {
   "cell_type": "markdown",
   "id": "df0d74dc-cc8d-41b3-bb23-e367b3c9e261",
   "metadata": {},
   "source": [
    "Q1. When to use a for loop and a while loop\n"
   ]
  },
  {
   "cell_type": "markdown",
   "id": "981fc152-ab65-4b25-901b-27ef8f356e6c",
   "metadata": {},
   "source": [
    "For Loop:\n",
    "Use a for loop when you know the exact number of iterations in advance.\n",
    "It is ideal for iterating over a sequence (like a list, tuple, dictionary, set, or string).\n",
    "While Loop:\n",
    "Use a while loop when the number of iterations is not known beforehand and depends on some condition being met.\n",
    "It continues to execute as long as the specified condition is true."
   ]
  },
  {
   "cell_type": "markdown",
   "id": "612ea2c5-4e3a-4598-975b-a76fb73ea0c3",
   "metadata": {},
   "source": [
    "Q2. Sum and product of the first 10 natural numbers using for and while loop"
   ]
  },
  {
   "cell_type": "code",
   "execution_count": 1,
   "id": "fe1a0092-1cd9-4d34-b003-48c8045e5174",
   "metadata": {},
   "outputs": [
    {
     "name": "stdout",
     "output_type": "stream",
     "text": [
      "Sum using for loop: 55\n",
      "Product using for loop: 3628800\n"
     ]
    }
   ],
   "source": [
    "sum_result = 0\n",
    "product_result = 1\n",
    "for i in range(1, 11):\n",
    "    sum_result += i\n",
    "    product_result *= i\n",
    "\n",
    "print(\"Sum using for loop:\", sum_result)\n",
    "print(\"Product using for loop:\", product_result)\n"
   ]
  },
  {
   "cell_type": "code",
   "execution_count": 2,
   "id": "9fe465f2-407e-4bc6-8789-8aae4f596391",
   "metadata": {},
   "outputs": [
    {
     "name": "stdout",
     "output_type": "stream",
     "text": [
      "Sum using while loop: 55\n",
      "Product using while loop: 3628800\n"
     ]
    }
   ],
   "source": [
    "sum_result = 0\n",
    "product_result = 1\n",
    "i = 1\n",
    "while i <= 10:\n",
    "    sum_result += i\n",
    "    product_result *= i\n",
    "    i += 1\n",
    "\n",
    "print(\"Sum using while loop:\", sum_result)\n",
    "print(\"Product using while loop:\", product_result)\n"
   ]
  },
  {
   "cell_type": "markdown",
   "id": "eb5d0f43-4e91-4e32-ba9d-000d82db7ab7",
   "metadata": {},
   "source": [
    "Q3. Compute the electricity bill for a household"
   ]
  },
  {
   "cell_type": "code",
   "execution_count": 3,
   "id": "f3837a94-0b0e-44aa-914b-c4166993a467",
   "metadata": {},
   "outputs": [
    {
     "name": "stdin",
     "output_type": "stream",
     "text": [
      "Enter the number of units consumed:  120\n"
     ]
    },
    {
     "name": "stdout",
     "output_type": "stream",
     "text": [
      "Total electricity bill: Rs. 570.0\n"
     ]
    }
   ],
   "source": [
    "units = int(input(\"Enter the number of units consumed: \"))\n",
    "if units <= 100:\n",
    "    bill = units * 4.5\n",
    "elif units <= 200:\n",
    "    bill = (100 * 4.5) + ((units - 100) * 6)\n",
    "elif units <= 300:\n",
    "    bill = (100 * 4.5) + (100 * 6) + ((units - 200) * 10)\n",
    "else:\n",
    "    bill = (100 * 4.5) + (100 * 6) + (100 * 10) + ((units - 300) * 20)\n",
    "\n",
    "print(\"Total electricity bill: Rs.\", bill)\n"
   ]
  },
  {
   "cell_type": "markdown",
   "id": "dd6dc6d6-70cd-4484-90d1-c23c0688bf7d",
   "metadata": {},
   "source": [
    "Q4. Calculate the cube of each number from 1 to 100 and append if divisible by 4 or 5"
   ]
  },
  {
   "cell_type": "code",
   "execution_count": 4,
   "id": "fec240ae-bfab-47aa-aaef-f433d57346c8",
   "metadata": {},
   "outputs": [
    {
     "name": "stdout",
     "output_type": "stream",
     "text": [
      "Numbers whose cubes are divisible by 4 or 5: [2, 4, 5, 6, 8, 10, 12, 14, 15, 16, 18, 20, 22, 24, 25, 26, 28, 30, 32, 34, 35, 36, 38, 40, 42, 44, 45, 46, 48, 50, 52, 54, 55, 56, 58, 60, 62, 64, 65, 66, 68, 70, 72, 74, 75, 76, 78, 80, 82, 84, 85, 86, 88, 90, 92, 94, 95, 96, 98, 100]\n"
     ]
    }
   ],
   "source": [
    "numbers = range(1, 101)\n",
    "result_list = []\n",
    "for number in numbers:\n",
    "    cube = number ** 3\n",
    "    if cube % 4 == 0 or cube % 5 == 0:\n",
    "        result_list.append(number)\n",
    "\n",
    "print(\"Numbers whose cubes are divisible by 4 or 5:\", result_list)\n"
   ]
  },
  {
   "cell_type": "markdown",
   "id": "667a4710-e7de-4a2f-babc-d52e74674115",
   "metadata": {},
   "source": [
    "Q5. Filter and count vowels in a given string"
   ]
  },
  {
   "cell_type": "code",
   "execution_count": 5,
   "id": "a693ad82-3e49-460f-90a3-ea29cf3b79a9",
   "metadata": {},
   "outputs": [
    {
     "name": "stdout",
     "output_type": "stream",
     "text": [
      "Number of vowels in the string: 12\n"
     ]
    }
   ],
   "source": [
    "string = \"I want to become a data scientist\"\n",
    "def count_vowels(s):\n",
    "    vowels = 'aeiouAEIOU'\n",
    "    return len([char for char in s if char in vowels])\n",
    "vowel_count = count_vowels(string)\n",
    "print(\"Number of vowels in the string:\", vowel_count)\n"
   ]
  },
  {
   "cell_type": "code",
   "execution_count": null,
   "id": "9f5456d2-d6ac-4c5f-89c8-3144e94689ba",
   "metadata": {},
   "outputs": [],
   "source": []
  }
 ],
 "metadata": {
  "kernelspec": {
   "display_name": "Python 3 (ipykernel)",
   "language": "python",
   "name": "python3"
  },
  "language_info": {
   "codemirror_mode": {
    "name": "ipython",
    "version": 3
   },
   "file_extension": ".py",
   "mimetype": "text/x-python",
   "name": "python",
   "nbconvert_exporter": "python",
   "pygments_lexer": "ipython3",
   "version": "3.11.7"
  }
 },
 "nbformat": 4,
 "nbformat_minor": 5
}
